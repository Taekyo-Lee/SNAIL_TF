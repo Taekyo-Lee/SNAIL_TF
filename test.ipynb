{
 "cells": [
  {
   "cell_type": "code",
   "execution_count": 1,
   "metadata": {},
   "outputs": [
    {
     "name": "stderr",
     "output_type": "stream",
     "text": [
      "2023-06-01 15:24:03.784909: I tensorflow/tsl/cuda/cudart_stub.cc:28] Could not find cuda drivers on your machine, GPU will not be used.\n",
      "2023-06-01 15:24:03.813109: I tensorflow/tsl/cuda/cudart_stub.cc:28] Could not find cuda drivers on your machine, GPU will not be used.\n",
      "2023-06-01 15:24:03.813744: I tensorflow/core/platform/cpu_feature_guard.cc:182] This TensorFlow binary is optimized to use available CPU instructions in performance-critical operations.\n",
      "To enable the following instructions: AVX2 FMA, in other operations, rebuild TensorFlow with the appropriate compiler flags.\n",
      "2023-06-01 15:24:04.470689: W tensorflow/compiler/tf2tensorrt/utils/py_utils.cc:38] TF-TRT Warning: Could not find TensorRT\n"
     ]
    }
   ],
   "source": [
    "from SNAIL_tf import *\n",
    "from omniglot_tf import *\n",
    "import tensorflow as tf\n",
    "from tensorflow.keras.models import Model\n",
    "from tensorflow.keras.layers import Conv2D, BatchNormalization, Activation, Dropout, MaxPool2D, Dense, Conv1D\n"
   ]
  },
  {
   "cell_type": "code",
   "execution_count": null,
   "metadata": {},
   "outputs": [],
   "source": []
  },
  {
   "cell_type": "code",
   "execution_count": 2,
   "metadata": {},
   "outputs": [
    {
     "name": "stdout",
     "output_type": "stream",
     "text": [
      "omniglot_images shape: (2, 6, 28, 28, 1)\n",
      "omniglot_features shape: (2, 6, 64)\n",
      "snail_output shape: (2, 6, 5)\n"
     ]
    },
    {
     "name": "stderr",
     "output_type": "stream",
     "text": [
      "2023-06-01 15:24:05.301717: W tensorflow/core/common_runtime/gpu/gpu_device.cc:1956] Cannot dlopen some GPU libraries. Please make sure the missing libraries mentioned above are installed properly if you would like to use GPU. Follow the guide at https://www.tensorflow.org/install/gpu for how to download and setup the required libraries for your platform.\n",
      "Skipping registering GPU devices...\n"
     ]
    }
   ],
   "source": [
    "task_minibatch_size = 2\n",
    "N, K = 5, 1\n",
    "omniglotfeatureextractor = OmniglotFeatureExtractor()\n",
    "snail_for_omniglot_test = Get_SNAIL_For_Omniglot_Test(N, K)\n",
    "\n",
    "\n",
    "#######################################\n",
    "omniglot_images = tf.random.normal(shape=(task_minibatch_size, N*K+1, 28, 28, 1))\n",
    "omniglot_features = omniglotfeatureextractor(omniglot_images)\n",
    "snail_output = snail_for_omniglot_test(omniglot_features, verbose=False)\n",
    "\n",
    "print(f'omniglot_images shape: {omniglot_images.shape}')\n",
    "print(f'omniglot_features shape: {omniglot_features.shape}')\n",
    "print(f'snail_output shape: {snail_output.shape}')\n"
   ]
  },
  {
   "cell_type": "code",
   "execution_count": 3,
   "metadata": {},
   "outputs": [
    {
     "name": "stdout",
     "output_type": "stream",
     "text": [
      "Model: \"omniglot_feature_extractor\"\n",
      "_________________________________________________________________\n",
      " Layer (type)                Output Shape              Param #   \n",
      "=================================================================\n",
      " Feature extractor Block 1:   multiple                 896       \n",
      " Conv2D (Conv2DBlock)                                            \n",
      "                                                                 \n",
      " Feature extractor Block 2:   multiple                 37184     \n",
      " Conv2D (Conv2DBlock)                                            \n",
      "                                                                 \n",
      " Feature extractor Block 3:   multiple                 37184     \n",
      " Conv2D (Conv2DBlock)                                            \n",
      "                                                                 \n",
      " Feature extractor Block 4:   multiple                 37184     \n",
      " Conv2D (Conv2DBlock)                                            \n",
      "                                                                 \n",
      " Feature Extractor 5: FC (FC  multiple                 4160      \n",
      " Block)                                                          \n",
      "                                                                 \n",
      "=================================================================\n",
      "Total params: 116,608\n",
      "Trainable params: 116,096\n",
      "Non-trainable params: 512\n",
      "_________________________________________________________________\n",
      "\n",
      "\n",
      "Model: \"snail\"\n",
      "_________________________________________________________________\n",
      " Layer (type)                Output Shape              Param #   \n",
      "=================================================================\n",
      " SNAIL Block 1: Singlehead a  multiple                 10400     \n",
      " ttention block (AttentionBl                                     \n",
      " ock)                                                            \n",
      "                                                                 \n",
      " SNAIL Block 2: Tomporal con  multiple                 344832    \n",
      " volution block (TCBlock)                                        \n",
      "                                                                 \n",
      " SNAIL Block 3: Singlehead a  multiple                 307840    \n",
      " ttention block (AttentionBl                                     \n",
      " ock)                                                            \n",
      "                                                                 \n",
      " SNAIL Block 4: Tomporal con  multiple                 1131264   \n",
      " volution block (TCBlock)                                        \n",
      "                                                                 \n",
      " SNAIL Block 5: Singlehead a  multiple                 1271040   \n",
      " ttention block (AttentionBl                                     \n",
      " ock)                                                            \n",
      "                                                                 \n",
      " N-way_softmax layer (Conv1D  multiple                 6245      \n",
      " )                                                               \n",
      "                                                                 \n",
      "=================================================================\n",
      "Total params: 3,071,621\n",
      "Trainable params: 3,071,621\n",
      "Non-trainable params: 0\n",
      "_________________________________________________________________\n"
     ]
    }
   ],
   "source": [
    "omniglotfeatureextractor.summary()\n",
    "print('\\n')\n",
    "snail_for_omniglot_test.summary()"
   ]
  },
  {
   "cell_type": "code",
   "execution_count": null,
   "metadata": {},
   "outputs": [],
   "source": []
  }
 ],
 "metadata": {
  "kernelspec": {
   "display_name": "Python 3.11.3 ('snail_tf')",
   "language": "python",
   "name": "python3"
  },
  "language_info": {
   "codemirror_mode": {
    "name": "ipython",
    "version": 3
   },
   "file_extension": ".py",
   "mimetype": "text/x-python",
   "name": "python",
   "nbconvert_exporter": "python",
   "pygments_lexer": "ipython3",
   "version": "3.11.3"
  },
  "orig_nbformat": 4,
  "vscode": {
   "interpreter": {
    "hash": "d6515a690a6dbe8a09209fafde5522a3d83e04aeba1c97bf643df8a4816aaac1"
   }
  }
 },
 "nbformat": 4,
 "nbformat_minor": 2
}
